{
 "cells": [
  {
   "cell_type": "code",
   "id": "initial_id",
   "metadata": {
    "collapsed": true,
    "ExecuteTime": {
     "end_time": "2025-01-16T14:01:18.051243Z",
     "start_time": "2025-01-16T14:01:17.743263Z"
    }
   },
   "source": "import pandas as pd",
   "outputs": [],
   "execution_count": 1
  },
  {
   "metadata": {
    "ExecuteTime": {
     "end_time": "2025-01-16T14:01:18.070361Z",
     "start_time": "2025-01-16T14:01:18.057671Z"
    }
   },
   "cell_type": "code",
   "source": [
    "# load the pickled data from job_listings.pkl\n",
    "df = pd.read_pickle('job_listings.pkl')"
   ],
   "id": "15db5ed2c9af2172",
   "outputs": [],
   "execution_count": 2
  },
  {
   "metadata": {
    "ExecuteTime": {
     "end_time": "2025-01-16T08:45:25.179267Z",
     "start_time": "2025-01-16T08:45:25.172353Z"
    }
   },
   "cell_type": "code",
   "source": "df",
   "id": "e4a074e4fc9361bb",
   "outputs": [
    {
     "data": {
      "text/plain": [
       "              company_name                                              title  \\\n",
       "0            Self-employed                   Virtual Administrative Assistant   \n",
       "1            Self-employed                            Freelance IT Technician   \n",
       "2                     AT&T               Retail Store Associates and Stockers   \n",
       "4            Self-employed                   Virtual Administrative Assistant   \n",
       "5            Self-employed          U.S. Sales Representative (self-employed)   \n",
       "...                    ...                                                ...   \n",
       "30799  Access Intelligence                               Intelligence Analyst   \n",
       "30800  Access Intelligence  Foreign Service Office Management Specialist (...   \n",
       "30801  Access Intelligence                               Intelligence Analyst   \n",
       "30802  Access Intelligence                  Intelligence Professional Careers   \n",
       "30803  Access Intelligence                               Intelligence Analyst   \n",
       "\n",
       "                                                     url  \\\n",
       "0      https://indeed.com/viewjob?jk=aab604c108a60ad9...   \n",
       "1      https://indeed.com/viewjob?jk=17218f281f9424c8...   \n",
       "2      https://indeed.com/viewjob?jk=ab030fd9cfe82769...   \n",
       "4      https://indeed.com/viewjob?jk=aab604c108a60ad9...   \n",
       "5      https://indeed.com/viewjob?jk=4a3b1f51f1097a6b...   \n",
       "...                                                  ...   \n",
       "30799  https://indeed.com/viewjob?jk=d9a72ac30665f98b...   \n",
       "30800  https://indeed.com/viewjob?jk=3ce22cddd9d1aa72...   \n",
       "30801  https://indeed.com/viewjob?jk=55bb37eae98eaf93...   \n",
       "30802  https://indeed.com/viewjob?jk=ca3aba2abf541e36...   \n",
       "30803  https://indeed.com/viewjob?jk=a099d512c777249d...   \n",
       "\n",
       "                                         location                    salary  \\\n",
       "0                                         Unknown               $17 an hour   \n",
       "1                               Chicago, IL 60601         Up to $45 an hour   \n",
       "2      231 Northgate Drive, McMinnville, TN 37110                      None   \n",
       "4                                         Unknown               $17 an hour   \n",
       "5                                         Unknown                      None   \n",
       "...                                           ...                       ...   \n",
       "30799                                     Unknown  $70,000 - $90,000 a year   \n",
       "30800                               United States                      None   \n",
       "30801                                    Virginia                      None   \n",
       "30802       1341 Providence Rd, Brandon, FL 33511                      None   \n",
       "30803                   El Dorado Hills, CA 95762            $85,550 a year   \n",
       "\n",
       "                                        type  \\\n",
       "0                               -  Part-time   \n",
       "1       -  Temporary, Temp-to-hire, Contract   \n",
       "2                                  Part-time   \n",
       "4                               -  Part-time   \n",
       "5                                  Freelance   \n",
       "...                                      ...   \n",
       "30799                                   None   \n",
       "30800                              Full-time   \n",
       "30801                              Full-time   \n",
       "30802                              Full-time   \n",
       "30803                           -  Full-time   \n",
       "\n",
       "                                             description  \n",
       "0      Fully remote role in a team with 60+ inbox man...  \n",
       "1      About ENCS Networks Based in Wayne, New Jersey...  \n",
       "2      Description  Ready to join our BIG family? Tex...  \n",
       "4      Fully remote role in a team with 60+ inbox man...  \n",
       "5      Do you excel at spotting opportunities and enj...  \n",
       "...                                                  ...  \n",
       "30799  ZeroFox seeks an Intelligence Analyst to join ...  \n",
       "30800  Overview Accepting applications Open & closing...  \n",
       "30801  Karthik Consulting is seeking All Source Intel...  \n",
       "30802  Job Description:  EKS Group, LLC is an equal O...  \n",
       "30803  Intelligence Analyst OverviewElevate your secu...  \n",
       "\n",
       "[3780 rows x 7 columns]"
      ],
      "text/html": [
       "<div>\n",
       "<style scoped>\n",
       "    .dataframe tbody tr th:only-of-type {\n",
       "        vertical-align: middle;\n",
       "    }\n",
       "\n",
       "    .dataframe tbody tr th {\n",
       "        vertical-align: top;\n",
       "    }\n",
       "\n",
       "    .dataframe thead th {\n",
       "        text-align: right;\n",
       "    }\n",
       "</style>\n",
       "<table border=\"1\" class=\"dataframe\">\n",
       "  <thead>\n",
       "    <tr style=\"text-align: right;\">\n",
       "      <th></th>\n",
       "      <th>company_name</th>\n",
       "      <th>title</th>\n",
       "      <th>url</th>\n",
       "      <th>location</th>\n",
       "      <th>salary</th>\n",
       "      <th>type</th>\n",
       "      <th>description</th>\n",
       "    </tr>\n",
       "  </thead>\n",
       "  <tbody>\n",
       "    <tr>\n",
       "      <th>0</th>\n",
       "      <td>Self-employed</td>\n",
       "      <td>Virtual Administrative Assistant</td>\n",
       "      <td>https://indeed.com/viewjob?jk=aab604c108a60ad9...</td>\n",
       "      <td>Unknown</td>\n",
       "      <td>$17 an hour</td>\n",
       "      <td>-  Part-time</td>\n",
       "      <td>Fully remote role in a team with 60+ inbox man...</td>\n",
       "    </tr>\n",
       "    <tr>\n",
       "      <th>1</th>\n",
       "      <td>Self-employed</td>\n",
       "      <td>Freelance IT Technician</td>\n",
       "      <td>https://indeed.com/viewjob?jk=17218f281f9424c8...</td>\n",
       "      <td>Chicago, IL 60601</td>\n",
       "      <td>Up to $45 an hour</td>\n",
       "      <td>-  Temporary, Temp-to-hire, Contract</td>\n",
       "      <td>About ENCS Networks Based in Wayne, New Jersey...</td>\n",
       "    </tr>\n",
       "    <tr>\n",
       "      <th>2</th>\n",
       "      <td>AT&amp;T</td>\n",
       "      <td>Retail Store Associates and Stockers</td>\n",
       "      <td>https://indeed.com/viewjob?jk=ab030fd9cfe82769...</td>\n",
       "      <td>231 Northgate Drive, McMinnville, TN 37110</td>\n",
       "      <td>None</td>\n",
       "      <td>Part-time</td>\n",
       "      <td>Description  Ready to join our BIG family? Tex...</td>\n",
       "    </tr>\n",
       "    <tr>\n",
       "      <th>4</th>\n",
       "      <td>Self-employed</td>\n",
       "      <td>Virtual Administrative Assistant</td>\n",
       "      <td>https://indeed.com/viewjob?jk=aab604c108a60ad9...</td>\n",
       "      <td>Unknown</td>\n",
       "      <td>$17 an hour</td>\n",
       "      <td>-  Part-time</td>\n",
       "      <td>Fully remote role in a team with 60+ inbox man...</td>\n",
       "    </tr>\n",
       "    <tr>\n",
       "      <th>5</th>\n",
       "      <td>Self-employed</td>\n",
       "      <td>U.S. Sales Representative (self-employed)</td>\n",
       "      <td>https://indeed.com/viewjob?jk=4a3b1f51f1097a6b...</td>\n",
       "      <td>Unknown</td>\n",
       "      <td>None</td>\n",
       "      <td>Freelance</td>\n",
       "      <td>Do you excel at spotting opportunities and enj...</td>\n",
       "    </tr>\n",
       "    <tr>\n",
       "      <th>...</th>\n",
       "      <td>...</td>\n",
       "      <td>...</td>\n",
       "      <td>...</td>\n",
       "      <td>...</td>\n",
       "      <td>...</td>\n",
       "      <td>...</td>\n",
       "      <td>...</td>\n",
       "    </tr>\n",
       "    <tr>\n",
       "      <th>30799</th>\n",
       "      <td>Access Intelligence</td>\n",
       "      <td>Intelligence Analyst</td>\n",
       "      <td>https://indeed.com/viewjob?jk=d9a72ac30665f98b...</td>\n",
       "      <td>Unknown</td>\n",
       "      <td>$70,000 - $90,000 a year</td>\n",
       "      <td>None</td>\n",
       "      <td>ZeroFox seeks an Intelligence Analyst to join ...</td>\n",
       "    </tr>\n",
       "    <tr>\n",
       "      <th>30800</th>\n",
       "      <td>Access Intelligence</td>\n",
       "      <td>Foreign Service Office Management Specialist (...</td>\n",
       "      <td>https://indeed.com/viewjob?jk=3ce22cddd9d1aa72...</td>\n",
       "      <td>United States</td>\n",
       "      <td>None</td>\n",
       "      <td>Full-time</td>\n",
       "      <td>Overview Accepting applications Open &amp; closing...</td>\n",
       "    </tr>\n",
       "    <tr>\n",
       "      <th>30801</th>\n",
       "      <td>Access Intelligence</td>\n",
       "      <td>Intelligence Analyst</td>\n",
       "      <td>https://indeed.com/viewjob?jk=55bb37eae98eaf93...</td>\n",
       "      <td>Virginia</td>\n",
       "      <td>None</td>\n",
       "      <td>Full-time</td>\n",
       "      <td>Karthik Consulting is seeking All Source Intel...</td>\n",
       "    </tr>\n",
       "    <tr>\n",
       "      <th>30802</th>\n",
       "      <td>Access Intelligence</td>\n",
       "      <td>Intelligence Professional Careers</td>\n",
       "      <td>https://indeed.com/viewjob?jk=ca3aba2abf541e36...</td>\n",
       "      <td>1341 Providence Rd, Brandon, FL 33511</td>\n",
       "      <td>None</td>\n",
       "      <td>Full-time</td>\n",
       "      <td>Job Description:  EKS Group, LLC is an equal O...</td>\n",
       "    </tr>\n",
       "    <tr>\n",
       "      <th>30803</th>\n",
       "      <td>Access Intelligence</td>\n",
       "      <td>Intelligence Analyst</td>\n",
       "      <td>https://indeed.com/viewjob?jk=a099d512c777249d...</td>\n",
       "      <td>El Dorado Hills, CA 95762</td>\n",
       "      <td>$85,550 a year</td>\n",
       "      <td>-  Full-time</td>\n",
       "      <td>Intelligence Analyst OverviewElevate your secu...</td>\n",
       "    </tr>\n",
       "  </tbody>\n",
       "</table>\n",
       "<p>3780 rows × 7 columns</p>\n",
       "</div>"
      ]
     },
     "execution_count": 3,
     "metadata": {},
     "output_type": "execute_result"
    }
   ],
   "execution_count": 3
  },
  {
   "metadata": {
    "ExecuteTime": {
     "end_time": "2025-01-16T08:45:25.213407Z",
     "start_time": "2025-01-16T08:45:25.210576Z"
    }
   },
   "cell_type": "code",
   "source": [
    "# finding the number of different companies in the dataset\n",
    "df['company_name'].nunique()"
   ],
   "id": "7b01d2959e0e928f",
   "outputs": [
    {
     "data": {
      "text/plain": [
       "643"
      ]
     },
     "execution_count": 4,
     "metadata": {},
     "output_type": "execute_result"
    }
   ],
   "execution_count": 4
  },
  {
   "metadata": {
    "ExecuteTime": {
     "end_time": "2025-01-16T08:45:28.273284Z",
     "start_time": "2025-01-16T08:45:28.055694Z"
    }
   },
   "cell_type": "code",
   "source": "df.to_csv('job_listings.csv', index=False)",
   "id": "2bf02ea03eef9f27",
   "outputs": [],
   "execution_count": 5
  },
  {
   "metadata": {
    "ExecuteTime": {
     "end_time": "2025-01-16T14:09:48.581199Z",
     "start_time": "2025-01-16T14:09:48.322027Z"
    }
   },
   "cell_type": "code",
   "source": [
    "# saving the data as a parquet file\n",
    "df.to_parquet('job_listings.parquet')"
   ],
   "id": "95a983614c8fcc18",
   "outputs": [],
   "execution_count": 4
  },
  {
   "metadata": {},
   "cell_type": "markdown",
   "source": "# Reading and saving the data in Datasets folder in parquet format",
   "id": "cce1cf8cb6b99228"
  },
  {
   "metadata": {
    "ExecuteTime": {
     "end_time": "2025-01-18T10:58:31.409308Z",
     "start_time": "2025-01-18T10:58:19.861200Z"
    }
   },
   "cell_type": "code",
   "source": [
    "glassdoor_4k_git = pd.read_csv('Datasets/glassdoor_4k_git.csv')\n",
    "glassdoor_4k_git.to_parquet('Datasets/glassdoor_4k_git.parquet')\n",
    "\n",
    "linkedin_124k_kaggle = pd.read_csv('Datasets/linkedin_124k_kaggle.csv')\n",
    "linkedin_124k_kaggle.to_parquet('Datasets/linkedin_124k_kaggle.parquet')\n",
    "\n",
    "linkedin_tech_82k_git = pd.read_csv('Datasets/linkedin_tech_82k_git.csv')\n",
    "linkedin_tech_82k_git.to_parquet('Datasets/linkedin_tech_82k_git.parquet')\n",
    "\n",
    "linkedin_130k_dataset = pd.read_csv('Datasets/linkedin_130k_dataset.csv')\n",
    "linkedin_130k_dataset.to_parquet('Datasets/linkedin_130k_dataset.parquet')"
   ],
   "id": "7381b9c2ab72f410",
   "outputs": [],
   "execution_count": 6
  },
  {
   "metadata": {},
   "cell_type": "code",
   "outputs": [],
   "execution_count": null,
   "source": "",
   "id": "99dbdc4bc6c1b683"
  }
 ],
 "metadata": {
  "kernelspec": {
   "display_name": "Python 3",
   "language": "python",
   "name": "python3"
  },
  "language_info": {
   "codemirror_mode": {
    "name": "ipython",
    "version": 2
   },
   "file_extension": ".py",
   "mimetype": "text/x-python",
   "name": "python",
   "nbconvert_exporter": "python",
   "pygments_lexer": "ipython2",
   "version": "2.7.6"
  }
 },
 "nbformat": 4,
 "nbformat_minor": 5
}
